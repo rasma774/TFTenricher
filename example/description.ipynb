{
 "cells": [
  {
   "cell_type": "markdown",
   "metadata": {},
   "source": [
    "# Introduction\n",
    "Here, we will see some examples of how a user can apply TFTenricher to find relevant biological annotations to genes that are associated to a group of transcription factors (TFs)\n",
    "\n",
    "## Basics\n",
    "First, we import the TFTenricher file, which requires that the package has been properly installed. We recomment that a virtual environment is used, but this is optional. To install, run the following bash code when in the main folder:\n",
    "\n",
    "```console\n",
    "pip install .\n",
    "```\n",
    "\n",
    "Now, we can properly import and use TFTenricher"
   ]
  },
  {
   "cell_type": "code",
   "execution_count": null,
   "metadata": {},
   "outputs": [],
   "source": [
    "# import TFTenricher\n",
    "from TFTenricher import TFTenricher"
   ]
  },
  {
   "cell_type": "markdown",
   "metadata": {},
   "source": [
    "Now, we start the analysis with some common immune-related TFs. Note that TFTenricher is designed to use gene symbols exclusively. "
   ]
  },
  {
   "cell_type": "code",
   "execution_count": null,
   "metadata": {},
   "outputs": [],
   "source": [
    "TFs = ['STAT1', 'GATA3', 'RELA', 'NFKB1', 'IRF4', 'STAT3', 'MYB']\n",
    "enr = TFTenricher(TFs)"
   ]
  },
  {
   "cell_type": "markdown",
   "metadata": {},
   "source": [
    "Now, we have mapped the TFs down to target genes using a correlation lookup table. In this example, we see how many of the immune-related TFs could not be found in the correlation table (0.0%). We also see that these seven TFs covered less than half of a percent of all TFs that were in the correlation table. \n",
    "\n",
    "We can view the putative target genes in the 'target_genes' attribute "
   ]
  },
  {
   "cell_type": "code",
   "execution_count": null,
   "metadata": {},
   "outputs": [],
   "source": [
    "print(enr.target_genes[:5])\n",
    "print('Number of target genes: ', len(enr.target_genes))"
   ]
  },
  {
   "cell_type": "markdown",
   "metadata": {},
   "source": [
    "\n",
    "Next, we can map these target genes to annotated gene sets, such as GO, KEGG, Reactome, the GWAS catalogue, or any set provided by the user. The default is GO. As per default, TFTenricher also performs a Benjamini-Hochberg multiple testing correction, but this can be omitted, or the user can provide a custom function.\n",
    "\n",
    "This calculation can take around 30 seconds."
   ]
  },
  {
   "cell_type": "code",
   "execution_count": null,
   "metadata": {},
   "outputs": [],
   "source": [
    "enr.downstream_enrich()\n",
    "enr.enrichments"
   ]
  },
  {
   "cell_type": "markdown",
   "metadata": {},
   "source": [
    "\n",
    "\n",
    "Next, we want to plot the results."
   ]
  },
  {
   "cell_type": "code",
   "execution_count": null,
   "metadata": {},
   "outputs": [],
   "source": [
    "f, ax = enr.plot()"
   ]
  },
  {
   "cell_type": "markdown",
   "metadata": {},
   "source": [
    "As can be seen, TFTenricher increases the power, and we thus get many significant pathways. We can therefore select to only plot the top N genes"
   ]
  },
  {
   "cell_type": "code",
   "execution_count": null,
   "metadata": {},
   "outputs": [],
   "source": [
    "f, ax = enr.plot(plot_Ntop=5)"
   ]
  },
  {
   "cell_type": "markdown",
   "metadata": {},
   "source": [
    "We can also sort on P-values"
   ]
  },
  {
   "cell_type": "code",
   "execution_count": null,
   "metadata": {},
   "outputs": [],
   "source": [
    "f, ax = enr.plot(plot_Ntop=5, sorton='p')"
   ]
  },
  {
   "cell_type": "markdown",
   "metadata": {},
   "source": [
    "## Optional inputs\n"
   ]
  },
  {
   "cell_type": "markdown",
   "metadata": {},
   "source": [
    "### Providing a different multiple testing correction function\n",
    "If the user wants an other method for correcting multiple testing, it can be provided in the downstream enrich process"
   ]
  },
  {
   "cell_type": "code",
   "execution_count": null,
   "metadata": {},
   "outputs": [],
   "source": [
    "# Assuming that there already is a enr object of the TFTenricher class\n",
    "\n",
    "# Print the number of terms passing FDR previously\n",
    "print('Number of significant terms, Benjamini-Hochberg: ', enr.enrichments.FDR.sum())\n",
    "\n",
    "# Define a Bonferroni correction (Note that the Bonferroni correction \n",
    "# is present in the stat_utils.py module, but we redefine it here for verbosity)\n",
    "def bonferroni(p, FDR=0.05):\n",
    "    return p < (FDR/len(p))\n",
    "\n",
    "\n",
    "# Now, we plug in our Bonferroni function instead\n",
    "enr.downstream_enrich(multiple_testing_correction=bonferroni)\n",
    "print('Number of significant terms, Bonferroni: ', enr.enrichments.FDR.sum())\n"
   ]
  },
  {
   "cell_type": "markdown",
   "metadata": {},
   "source": [
    "### Analysing other databases\n",
    "The TFTenricher function also has several other databases to compare against, which is set by the 'db' option in the downstream_enrich method. The parameter 'db' can have the values 'REACTOME', 'KEGG', 'GWAS', 'GO', or be a dictionary set by the user."
   ]
  },
  {
   "cell_type": "code",
   "execution_count": null,
   "metadata": {},
   "outputs": [],
   "source": [
    "enr.downstream_enrich(db='GWAS')\n",
    "enr.enrichments"
   ]
  },
  {
   "cell_type": "markdown",
   "metadata": {},
   "source": [
    "### Comparing to a custom database of ontologies\n",
    "To allow for swiching to a user-defined database, the 'db' parameter to the 'downstream_enrich' method should be a dictionary, with terms as keys and each set being a list/np.array of gene SYMBOL IDs"
   ]
  },
  {
   "cell_type": "code",
   "execution_count": null,
   "metadata": {},
   "outputs": [],
   "source": [
    "# We define a custom ontology dict\n",
    "my_own_db = {}\n",
    "\n",
    "# we add a dummy ontology\n",
    "# TFTenricher does not per default consider ontologies with less than 10 genes, so we add 50\n",
    "my_own_db['pseudo_ontology'] = ['GENENAME' + str(i) for i in range(50)] \n",
    "\n",
    "# We also add one that highly matches the inferred target genes, for control\n",
    "my_own_db['supermatch'] = enr.target_genes[:51]\n",
    "\n",
    "# Now we check the results\n",
    "enr.downstream_enrich(db=my_own_db)\n",
    "enr.enrichments\n"
   ]
  },
  {
   "cell_type": "markdown",
   "metadata": {},
   "source": [
    "### Testing other TF-target mappings than the correlation-based mapping\n",
    "The default option of TFTenricher is to map TFs to target genes using a coexpression analysis. However, we can also map using any function that takes the form 'mapping_fun(TFs, silent, top_n_genes)', where TFs are the input list of TFs, 'silent' is whether to print output (bool), and top_n_genes is how many genes to include (int, set to None in the default -> TFTenricher performs a monte-carlo simulation for statistics on whether to include a downstream gene.   \n",
    "\n",
    "#### Here, we set plug in the  built-in TRRUST mapping\n",
    "NOTE: as presented in Sup. material 3, the TRRUST mapping is prone to biases, and we therefore recommend that the correlation-based approach is used. "
   ]
  },
  {
   "cell_type": "code",
   "execution_count": null,
   "metadata": {},
   "outputs": [],
   "source": [
    "from TFTenricher import map2trgt_utils\n",
    "\n",
    "enr = TFTenricher(TFs, mapmethod=map2trgt_utils.trrust_genes)\n",
    "enr.downstream_enrich()\n",
    "enr.enrichments"
   ]
  },
  {
   "cell_type": "markdown",
   "metadata": {},
   "source": [
    "#### We can also define our own mapping functions\n",
    "The input paramater TFs is a list of TF SYMBOL names, while top_n_genes and silent are, as of now, hard-coded input variables. Here, we design a dummy mapping function that always returns the target genes GATA3 and GATA4."
   ]
  },
  {
   "cell_type": "code",
   "execution_count": null,
   "metadata": {},
   "outputs": [],
   "source": [
    "def foo(TFs, top_n_genes=None, silent=None):\n",
    "    return ['GATA3', 'GATA4']\n",
    "\n",
    "\n",
    "enr = TFTenricher(TFs, mapmethod=foo)\n",
    "enr.target_genes\n"
   ]
  },
  {
   "cell_type": "markdown",
   "metadata": {},
   "source": [
    "# Reference\n",
    "The reference for the TFTenricher can be found by running the 'cite' method:"
   ]
  },
  {
   "cell_type": "code",
   "execution_count": null,
   "metadata": {},
   "outputs": [],
   "source": [
    "enr.cite()"
   ]
  },
  {
   "cell_type": "markdown",
   "metadata": {},
   "source": [
    "Note that 'cite()' also prints the references to the third-party resources that have been used in the enr object\n",
    "\n",
    "COPYRIGHT (C) Rasmus Magnusson, 2020\n",
    "\n",
    "Contact: rasma774@gmail.com"
   ]
  }
 ],
 "metadata": {
  "kernelspec": {
   "display_name": "Python 3",
   "language": "python",
   "name": "python3"
  },
  "language_info": {
   "codemirror_mode": {
    "name": "ipython",
    "version": 3
   },
   "file_extension": ".py",
   "mimetype": "text/x-python",
   "name": "python",
   "nbconvert_exporter": "python",
   "pygments_lexer": "ipython3",
   "version": "3.8.3"
  }
 },
 "nbformat": 4,
 "nbformat_minor": 4
}
